{
 "cells": [
  {
   "cell_type": "markdown",
   "id": "644a18a0",
   "metadata": {},
   "source": [
    "# Visualización de datos geográficos con librería kepler"
   ]
  },
  {
   "cell_type": "markdown",
   "id": "738af632",
   "metadata": {},
   "source": [
    "## Instalación"
   ]
  },
  {
   "cell_type": "code",
   "execution_count": 42,
   "id": "708a0e56",
   "metadata": {
    "collapsed": true
   },
   "outputs": [
    {
     "name": "stdout",
     "output_type": "stream",
     "text": [
      "Requirement already satisfied: keplergl in c:\\users\\bvazq\\anaconda3\\lib\\site-packages (0.3.2)\n",
      "Requirement already satisfied: traittypes>=0.2.1 in c:\\users\\bvazq\\anaconda3\\lib\\site-packages (from keplergl) (0.2.1)\n",
      "Requirement already satisfied: ipywidgets<8,>=7.0.0 in c:\\users\\bvazq\\anaconda3\\lib\\site-packages (from keplergl) (7.6.5)\n",
      "Requirement already satisfied: pandas>=0.23.0 in c:\\users\\bvazq\\anaconda3\\lib\\site-packages (from keplergl) (1.4.4)\n",
      "Requirement already satisfied: Shapely>=1.6.4.post2 in c:\\users\\bvazq\\anaconda3\\lib\\site-packages (from keplergl) (2.0.1)\n",
      "Requirement already satisfied: geopandas>=0.5.0 in c:\\users\\bvazq\\anaconda3\\lib\\site-packages (from keplergl) (0.13.2)\n",
      "Requirement already satisfied: packaging in c:\\users\\bvazq\\anaconda3\\lib\\site-packages (from geopandas>=0.5.0->keplergl) (21.3)\n",
      "Requirement already satisfied: pyproj>=3.0.1 in c:\\users\\bvazq\\anaconda3\\lib\\site-packages (from geopandas>=0.5.0->keplergl) (3.6.0)\n",
      "Requirement already satisfied: fiona>=1.8.19 in c:\\users\\bvazq\\anaconda3\\lib\\site-packages (from geopandas>=0.5.0->keplergl) (1.9.4.post1)\n",
      "Requirement already satisfied: widgetsnbextension~=3.5.0 in c:\\users\\bvazq\\anaconda3\\lib\\site-packages (from ipywidgets<8,>=7.0.0->keplergl) (3.5.2)\n",
      "Requirement already satisfied: traitlets>=4.3.1 in c:\\users\\bvazq\\anaconda3\\lib\\site-packages (from ipywidgets<8,>=7.0.0->keplergl) (5.1.1)\n",
      "Requirement already satisfied: ipykernel>=4.5.1 in c:\\users\\bvazq\\appdata\\roaming\\python\\python39\\site-packages (from ipywidgets<8,>=7.0.0->keplergl) (6.9.2)\n",
      "Requirement already satisfied: ipython>=4.0.0 in c:\\users\\bvazq\\appdata\\roaming\\python\\python39\\site-packages (from ipywidgets<8,>=7.0.0->keplergl) (8.1.1)\n",
      "Requirement already satisfied: ipython-genutils~=0.2.0 in c:\\users\\bvazq\\anaconda3\\lib\\site-packages (from ipywidgets<8,>=7.0.0->keplergl) (0.2.0)\n",
      "Requirement already satisfied: jupyterlab-widgets>=1.0.0 in c:\\users\\bvazq\\anaconda3\\lib\\site-packages (from ipywidgets<8,>=7.0.0->keplergl) (1.0.0)\n",
      "Requirement already satisfied: nbformat>=4.2.0 in c:\\users\\bvazq\\anaconda3\\lib\\site-packages (from ipywidgets<8,>=7.0.0->keplergl) (5.5.0)\n",
      "Requirement already satisfied: numpy>=1.18.5 in c:\\users\\bvazq\\appdata\\roaming\\python\\python39\\site-packages (from pandas>=0.23.0->keplergl) (1.21.6)\n",
      "Requirement already satisfied: pytz>=2020.1 in c:\\users\\bvazq\\anaconda3\\lib\\site-packages (from pandas>=0.23.0->keplergl) (2023.3.post1)\n",
      "Requirement already satisfied: python-dateutil>=2.8.1 in c:\\users\\bvazq\\anaconda3\\lib\\site-packages (from pandas>=0.23.0->keplergl) (2.8.2)\n",
      "Requirement already satisfied: attrs>=19.2.0 in c:\\users\\bvazq\\anaconda3\\lib\\site-packages (from fiona>=1.8.19->geopandas>=0.5.0->keplergl) (21.4.0)\n",
      "Requirement already satisfied: click~=8.0 in c:\\users\\bvazq\\anaconda3\\lib\\site-packages (from fiona>=1.8.19->geopandas>=0.5.0->keplergl) (8.0.4)\n",
      "Requirement already satisfied: cligj>=0.5 in c:\\users\\bvazq\\anaconda3\\lib\\site-packages (from fiona>=1.8.19->geopandas>=0.5.0->keplergl) (0.7.2)\n",
      "Requirement already satisfied: click-plugins>=1.0 in c:\\users\\bvazq\\anaconda3\\lib\\site-packages (from fiona>=1.8.19->geopandas>=0.5.0->keplergl) (1.1.1)\n",
      "Requirement already satisfied: six in c:\\users\\bvazq\\anaconda3\\lib\\site-packages (from fiona>=1.8.19->geopandas>=0.5.0->keplergl) (1.16.0)\n",
      "Requirement already satisfied: importlib-metadata in c:\\users\\bvazq\\anaconda3\\lib\\site-packages (from fiona>=1.8.19->geopandas>=0.5.0->keplergl) (4.11.3)\n",
      "Requirement already satisfied: certifi in c:\\users\\bvazq\\anaconda3\\lib\\site-packages (from fiona>=1.8.19->geopandas>=0.5.0->keplergl) (2023.11.17)\n",
      "Requirement already satisfied: debugpy<2.0,>=1.0.0 in c:\\users\\bvazq\\appdata\\roaming\\python\\python39\\site-packages (from ipykernel>=4.5.1->ipywidgets<8,>=7.0.0->keplergl) (1.6.0)\n",
      "Requirement already satisfied: nest-asyncio in c:\\users\\bvazq\\appdata\\roaming\\python\\python39\\site-packages (from ipykernel>=4.5.1->ipywidgets<8,>=7.0.0->keplergl) (1.5.4)\n",
      "Requirement already satisfied: jupyter-client<8.0 in c:\\users\\bvazq\\appdata\\roaming\\python\\python39\\site-packages (from ipykernel>=4.5.1->ipywidgets<8,>=7.0.0->keplergl) (7.1.2)\n",
      "Requirement already satisfied: matplotlib-inline<0.2.0,>=0.1.0 in c:\\users\\bvazq\\appdata\\roaming\\python\\python39\\site-packages (from ipykernel>=4.5.1->ipywidgets<8,>=7.0.0->keplergl) (0.1.3)\n",
      "Requirement already satisfied: psutil in c:\\users\\bvazq\\appdata\\roaming\\python\\python39\\site-packages (from ipykernel>=4.5.1->ipywidgets<8,>=7.0.0->keplergl) (5.9.0)\n",
      "Requirement already satisfied: tornado<7.0,>=4.2 in c:\\users\\bvazq\\appdata\\roaming\\python\\python39\\site-packages (from ipykernel>=4.5.1->ipywidgets<8,>=7.0.0->keplergl) (6.1)\n",
      "Requirement already satisfied: setuptools>=18.5 in c:\\users\\bvazq\\anaconda3\\lib\\site-packages (from ipython>=4.0.0->ipywidgets<8,>=7.0.0->keplergl) (63.4.1)\n",
      "Requirement already satisfied: pygments>=2.4.0 in c:\\users\\bvazq\\appdata\\roaming\\python\\python39\\site-packages (from ipython>=4.0.0->ipywidgets<8,>=7.0.0->keplergl) (2.11.2)\n",
      "Requirement already satisfied: jedi>=0.16 in c:\\users\\bvazq\\appdata\\roaming\\python\\python39\\site-packages (from ipython>=4.0.0->ipywidgets<8,>=7.0.0->keplergl) (0.18.1)\n",
      "Requirement already satisfied: decorator in c:\\users\\bvazq\\anaconda3\\lib\\site-packages (from ipython>=4.0.0->ipywidgets<8,>=7.0.0->keplergl) (5.1.1)\n",
      "Requirement already satisfied: prompt-toolkit!=3.0.0,!=3.0.1,<3.1.0,>=2.0.0 in c:\\users\\bvazq\\appdata\\roaming\\python\\python39\\site-packages (from ipython>=4.0.0->ipywidgets<8,>=7.0.0->keplergl) (3.0.28)\n",
      "Requirement already satisfied: stack-data in c:\\users\\bvazq\\appdata\\roaming\\python\\python39\\site-packages (from ipython>=4.0.0->ipywidgets<8,>=7.0.0->keplergl) (0.2.0)\n",
      "Requirement already satisfied: pickleshare in c:\\users\\bvazq\\appdata\\roaming\\python\\python39\\site-packages (from ipython>=4.0.0->ipywidgets<8,>=7.0.0->keplergl) (0.7.5)\n",
      "Requirement already satisfied: colorama in c:\\users\\bvazq\\anaconda3\\lib\\site-packages (from ipython>=4.0.0->ipywidgets<8,>=7.0.0->keplergl) (0.4.5)\n",
      "Requirement already satisfied: backcall in c:\\users\\bvazq\\appdata\\roaming\\python\\python39\\site-packages (from ipython>=4.0.0->ipywidgets<8,>=7.0.0->keplergl) (0.2.0)\n",
      "Requirement already satisfied: jupyter_core in c:\\users\\bvazq\\appdata\\roaming\\python\\python39\\site-packages (from nbformat>=4.2.0->ipywidgets<8,>=7.0.0->keplergl) (4.9.2)\n",
      "Requirement already satisfied: fastjsonschema in c:\\users\\bvazq\\anaconda3\\lib\\site-packages (from nbformat>=4.2.0->ipywidgets<8,>=7.0.0->keplergl) (2.16.2)\n",
      "Requirement already satisfied: jsonschema>=2.6 in c:\\users\\bvazq\\anaconda3\\lib\\site-packages (from nbformat>=4.2.0->ipywidgets<8,>=7.0.0->keplergl) (4.16.0)\n",
      "Requirement already satisfied: notebook>=4.4.1 in c:\\users\\bvazq\\anaconda3\\lib\\site-packages (from widgetsnbextension~=3.5.0->ipywidgets<8,>=7.0.0->keplergl) (6.4.12)\n",
      "Requirement already satisfied: pyparsing!=3.0.5,>=2.0.2 in c:\\users\\bvazq\\anaconda3\\lib\\site-packages (from packaging->geopandas>=0.5.0->keplergl) (3.0.9)\n",
      "Requirement already satisfied: parso<0.9.0,>=0.8.0 in c:\\users\\bvazq\\appdata\\roaming\\python\\python39\\site-packages (from jedi>=0.16->ipython>=4.0.0->ipywidgets<8,>=7.0.0->keplergl) (0.8.3)\n",
      "Requirement already satisfied: pyrsistent!=0.17.0,!=0.17.1,!=0.17.2,>=0.14.0 in c:\\users\\bvazq\\anaconda3\\lib\\site-packages (from jsonschema>=2.6->nbformat>=4.2.0->ipywidgets<8,>=7.0.0->keplergl) (0.18.0)\n",
      "Requirement already satisfied: entrypoints in c:\\users\\bvazq\\appdata\\roaming\\python\\python39\\site-packages (from jupyter-client<8.0->ipykernel>=4.5.1->ipywidgets<8,>=7.0.0->keplergl) (0.4)\n",
      "Requirement already satisfied: pyzmq>=13 in c:\\users\\bvazq\\appdata\\roaming\\python\\python39\\site-packages (from jupyter-client<8.0->ipykernel>=4.5.1->ipywidgets<8,>=7.0.0->keplergl) (22.3.0)\n",
      "Requirement already satisfied: pywin32>=1.0 in c:\\users\\bvazq\\appdata\\roaming\\python\\python39\\site-packages (from jupyter_core->nbformat>=4.2.0->ipywidgets<8,>=7.0.0->keplergl) (303)\n",
      "Requirement already satisfied: Send2Trash>=1.8.0 in c:\\users\\bvazq\\anaconda3\\lib\\site-packages (from notebook>=4.4.1->widgetsnbextension~=3.5.0->ipywidgets<8,>=7.0.0->keplergl) (1.8.0)\n",
      "Requirement already satisfied: jinja2 in c:\\users\\bvazq\\anaconda3\\lib\\site-packages (from notebook>=4.4.1->widgetsnbextension~=3.5.0->ipywidgets<8,>=7.0.0->keplergl) (2.11.3)\n",
      "Requirement already satisfied: nbconvert>=5 in c:\\users\\bvazq\\anaconda3\\lib\\site-packages (from notebook>=4.4.1->widgetsnbextension~=3.5.0->ipywidgets<8,>=7.0.0->keplergl) (6.4.4)\n",
      "Requirement already satisfied: prometheus-client in c:\\users\\bvazq\\anaconda3\\lib\\site-packages (from notebook>=4.4.1->widgetsnbextension~=3.5.0->ipywidgets<8,>=7.0.0->keplergl) (0.14.1)\n",
      "Requirement already satisfied: terminado>=0.8.3 in c:\\users\\bvazq\\anaconda3\\lib\\site-packages (from notebook>=4.4.1->widgetsnbextension~=3.5.0->ipywidgets<8,>=7.0.0->keplergl) (0.13.1)\n",
      "Requirement already satisfied: argon2-cffi in c:\\users\\bvazq\\anaconda3\\lib\\site-packages (from notebook>=4.4.1->widgetsnbextension~=3.5.0->ipywidgets<8,>=7.0.0->keplergl) (21.3.0)\n",
      "Requirement already satisfied: wcwidth in c:\\users\\bvazq\\appdata\\roaming\\python\\python39\\site-packages (from prompt-toolkit!=3.0.0,!=3.0.1,<3.1.0,>=2.0.0->ipython>=4.0.0->ipywidgets<8,>=7.0.0->keplergl) (0.2.5)\n",
      "Requirement already satisfied: zipp>=0.5 in c:\\users\\bvazq\\anaconda3\\lib\\site-packages (from importlib-metadata->fiona>=1.8.19->geopandas>=0.5.0->keplergl) (3.8.0)\n",
      "Requirement already satisfied: pure-eval in c:\\users\\bvazq\\appdata\\roaming\\python\\python39\\site-packages (from stack-data->ipython>=4.0.0->ipywidgets<8,>=7.0.0->keplergl) (0.2.2)\n",
      "Requirement already satisfied: executing in c:\\users\\bvazq\\appdata\\roaming\\python\\python39\\site-packages (from stack-data->ipython>=4.0.0->ipywidgets<8,>=7.0.0->keplergl) (0.8.3)\n",
      "Requirement already satisfied: asttokens in c:\\users\\bvazq\\appdata\\roaming\\python\\python39\\site-packages (from stack-data->ipython>=4.0.0->ipywidgets<8,>=7.0.0->keplergl) (2.0.5)\n",
      "Requirement already satisfied: mistune<2,>=0.8.1 in c:\\users\\bvazq\\anaconda3\\lib\\site-packages (from nbconvert>=5->notebook>=4.4.1->widgetsnbextension~=3.5.0->ipywidgets<8,>=7.0.0->keplergl) (0.8.4)\n",
      "Requirement already satisfied: pandocfilters>=1.4.1 in c:\\users\\bvazq\\anaconda3\\lib\\site-packages (from nbconvert>=5->notebook>=4.4.1->widgetsnbextension~=3.5.0->ipywidgets<8,>=7.0.0->keplergl) (1.5.0)\n",
      "Requirement already satisfied: beautifulsoup4 in c:\\users\\bvazq\\anaconda3\\lib\\site-packages (from nbconvert>=5->notebook>=4.4.1->widgetsnbextension~=3.5.0->ipywidgets<8,>=7.0.0->keplergl) (4.11.1)\n",
      "Requirement already satisfied: nbclient<0.6.0,>=0.5.0 in c:\\users\\bvazq\\anaconda3\\lib\\site-packages (from nbconvert>=5->notebook>=4.4.1->widgetsnbextension~=3.5.0->ipywidgets<8,>=7.0.0->keplergl) (0.5.13)\n",
      "Requirement already satisfied: testpath in c:\\users\\bvazq\\anaconda3\\lib\\site-packages (from nbconvert>=5->notebook>=4.4.1->widgetsnbextension~=3.5.0->ipywidgets<8,>=7.0.0->keplergl) (0.6.0)\n",
      "Requirement already satisfied: jupyterlab-pygments in c:\\users\\bvazq\\anaconda3\\lib\\site-packages (from nbconvert>=5->notebook>=4.4.1->widgetsnbextension~=3.5.0->ipywidgets<8,>=7.0.0->keplergl) (0.1.2)\n",
      "Requirement already satisfied: bleach in c:\\users\\bvazq\\anaconda3\\lib\\site-packages (from nbconvert>=5->notebook>=4.4.1->widgetsnbextension~=3.5.0->ipywidgets<8,>=7.0.0->keplergl) (4.1.0)\n",
      "Requirement already satisfied: defusedxml in c:\\users\\bvazq\\anaconda3\\lib\\site-packages (from nbconvert>=5->notebook>=4.4.1->widgetsnbextension~=3.5.0->ipywidgets<8,>=7.0.0->keplergl) (0.7.1)\n",
      "Requirement already satisfied: MarkupSafe>=0.23 in c:\\users\\bvazq\\anaconda3\\lib\\site-packages (from jinja2->notebook>=4.4.1->widgetsnbextension~=3.5.0->ipywidgets<8,>=7.0.0->keplergl) (2.0.1)\n",
      "Requirement already satisfied: pywinpty>=1.1.0 in c:\\users\\bvazq\\anaconda3\\lib\\site-packages (from terminado>=0.8.3->notebook>=4.4.1->widgetsnbextension~=3.5.0->ipywidgets<8,>=7.0.0->keplergl) (2.0.2)\n",
      "Requirement already satisfied: argon2-cffi-bindings in c:\\users\\bvazq\\anaconda3\\lib\\site-packages (from argon2-cffi->notebook>=4.4.1->widgetsnbextension~=3.5.0->ipywidgets<8,>=7.0.0->keplergl) (21.2.0)\n",
      "Requirement already satisfied: cffi>=1.0.1 in c:\\users\\bvazq\\anaconda3\\lib\\site-packages (from argon2-cffi-bindings->argon2-cffi->notebook>=4.4.1->widgetsnbextension~=3.5.0->ipywidgets<8,>=7.0.0->keplergl) (1.15.1)\n",
      "Requirement already satisfied: soupsieve>1.2 in c:\\users\\bvazq\\anaconda3\\lib\\site-packages (from beautifulsoup4->nbconvert>=5->notebook>=4.4.1->widgetsnbextension~=3.5.0->ipywidgets<8,>=7.0.0->keplergl) (2.3.1)\n",
      "Requirement already satisfied: webencodings in c:\\users\\bvazq\\anaconda3\\lib\\site-packages (from bleach->nbconvert>=5->notebook>=4.4.1->widgetsnbextension~=3.5.0->ipywidgets<8,>=7.0.0->keplergl) (0.5.1)\n",
      "Requirement already satisfied: pycparser in c:\\users\\bvazq\\anaconda3\\lib\\site-packages (from cffi>=1.0.1->argon2-cffi-bindings->argon2-cffi->notebook>=4.4.1->widgetsnbextension~=3.5.0->ipywidgets<8,>=7.0.0->keplergl) (2.21)\n"
     ]
    },
    {
     "name": "stderr",
     "output_type": "stream",
     "text": [
      "WARNING: Ignoring invalid distribution -rotobuf (c:\\users\\bvazq\\anaconda3\\lib\\site-packages)\n",
      "WARNING: Ignoring invalid distribution -rotobuf (c:\\users\\bvazq\\anaconda3\\lib\\site-packages)\n",
      "WARNING: Ignoring invalid distribution -rotobuf (c:\\users\\bvazq\\anaconda3\\lib\\site-packages)\n",
      "WARNING: Ignoring invalid distribution -rotobuf (c:\\users\\bvazq\\anaconda3\\lib\\site-packages)\n",
      "WARNING: Ignoring invalid distribution -rotobuf (c:\\users\\bvazq\\anaconda3\\lib\\site-packages)\n",
      "WARNING: Ignoring invalid distribution -rotobuf (c:\\users\\bvazq\\anaconda3\\lib\\site-packages)\n"
     ]
    }
   ],
   "source": [
    "!pip install keplergl geopandas shapely\n"
   ]
  },
  {
   "cell_type": "code",
   "execution_count": 14,
   "id": "99832e0e",
   "metadata": {},
   "outputs": [],
   "source": [
    "import pandas as pd\n",
    "from keplergl import KeplerGl\n",
    "import matplotlib.pyplot as plt\n",
    "from shapely.geometry import Point"
   ]
  },
  {
   "cell_type": "markdown",
   "id": "29c90e16",
   "metadata": {},
   "source": [
    "## Introducimos datos"
   ]
  },
  {
   "cell_type": "code",
   "execution_count": 33,
   "id": "481bd712",
   "metadata": {},
   "outputs": [
    {
     "name": "stdout",
     "output_type": "stream",
     "text": [
      "<class 'pandas.core.frame.DataFrame'>\n",
      "RangeIndex: 4 entries, 0 to 3\n",
      "Data columns (total 6 columns):\n",
      " #   Column        Non-Null Count  Dtype  \n",
      "---  ------        --------------  -----  \n",
      " 0   lat           4 non-null      float64\n",
      " 1   lon           4 non-null      float64\n",
      " 2   city          4 non-null      object \n",
      " 3   poblacion     4 non-null      int64  \n",
      " 4   renta_capita  4 non-null      int64  \n",
      " 5   city_geo      4 non-null      object \n",
      "dtypes: float64(2), int64(2), object(2)\n",
      "memory usage: 320.0+ bytes\n"
     ]
    }
   ],
   "source": [
    "# Crear un DataFrame con datos de ejemplo (ubicaciones aleatorias)\n",
    "data = {\n",
    "    \"lat\": [41.11905, 41.3879, 41.9831100,41.61674],  \n",
    "    \"lon\": [1.24544, 2.1699, 2.8249300,0.62218],  \n",
    "    \"city\": [\"Tarragona\", \"Barcelona\", \"Girona\",\"Lleida\"],\n",
    "    \"poblacion\": [100, 200, 300, 400], \n",
    "    \"renta_capita\": [1500, 2500, 1700, 800]\n",
    "}\n",
    "df = pd.DataFrame(data)\n",
    "\n",
    "\n",
    "df.info()"
   ]
  },
  {
   "cell_type": "markdown",
   "id": "86f012f5",
   "metadata": {},
   "source": [
    "## Visualizamos datos"
   ]
  },
  {
   "cell_type": "code",
   "execution_count": 4,
   "id": "9d17d1a9",
   "metadata": {
    "scrolled": false
   },
   "outputs": [
    {
     "name": "stdout",
     "output_type": "stream",
     "text": [
      "User Guide: https://docs.kepler.gl/docs/keplergl-jupyter\n"
     ]
    },
    {
     "data": {
      "application/vnd.jupyter.widget-view+json": {
       "model_id": "96cdbd463b08406d8032f56a8c6d2b41",
       "version_major": 2,
       "version_minor": 0
      },
      "text/plain": [
       "KeplerGl(data={'Ciudades Cataluña': {'index': [0, 1, 2, 3], 'columns': ['lat', 'lon', 'ciudad', 'poblacion', '…"
      ]
     },
     "metadata": {},
     "output_type": "display_data"
    }
   ],
   "source": [
    "# Crear un mapa en Kepler.gl\n",
    "mapa = KeplerGl(height=600)\n",
    "mapa.add_data(data=df, name=\"Ciudades Cataluña\")\n",
    "\n",
    "# Mostrar el mapa\n",
    "mapa"
   ]
  },
  {
   "cell_type": "markdown",
   "id": "5cc6f884",
   "metadata": {},
   "source": [
    "## Exportar el mapa a HTML\n",
    "\n",
    "Quizás en este formato sea más intuitivo diseñar los mapas y analizarlos"
   ]
  },
  {
   "cell_type": "code",
   "execution_count": 10,
   "id": "5dc2b641",
   "metadata": {},
   "outputs": [
    {
     "name": "stdout",
     "output_type": "stream",
     "text": [
      "Map saved to kepler_map.html!\n"
     ]
    }
   ],
   "source": [
    "# Guardar configuración del mapa\n",
    "mapa.save_to_html(file_name=\"kepler_map.html\")"
   ]
  },
  {
   "cell_type": "markdown",
   "id": "b11f2f90",
   "metadata": {},
   "source": [
    "## Fichero config\n",
    "\n",
    "Todo lo que podemos hacer con los botones en el HTML, también podemos dejarlo configurado en código, a través de un JSON"
   ]
  },
  {
   "cell_type": "code",
   "execution_count": 6,
   "id": "d3cfc163",
   "metadata": {},
   "outputs": [],
   "source": [
    "config = {\n",
    "  \"version\": \"v1\",\n",
    "  \"config\": {\n",
    "    \"visState\": {\n",
    "      \"layers\": [\n",
    "        {\n",
    "          \"id\": \"puntos\",\n",
    "          \"type\": \"point\",\n",
    "          \"config\": {\n",
    "            \"dataId\": \"Datos\",\n",
    "            \"label\": \"Puntos\",\n",
    "            \"color\": [255, 0, 0],\n",
    "            \"columns\": {\n",
    "              \"lat\": \"lat\",\n",
    "              \"lng\": \"lon\"\n",
    "            },\n",
    "            \"isVisible\": True,\n",
    "            \"visConfig\": {\n",
    "              \"radius\": 10,\n",
    "              \"opacity\": 0.8\n",
    "            }\n",
    "          }\n",
    "        }\n",
    "      ]\n",
    "    },\n",
    "    \"mapState\": {\n",
    "      \"latitude\": 40.4168,\n",
    "      \"longitude\": -3.7038,\n",
    "      \"zoom\": 5,\n",
    "      \"pitch\": 0,\n",
    "      \"bearing\": 0\n",
    "    },\n",
    "    \"mapStyle\": {\n",
    "      \"styleType\": \"dark\"\n",
    "    }\n",
    "  }\n",
    "}\n"
   ]
  },
  {
   "cell_type": "code",
   "execution_count": 7,
   "id": "79b0afc2",
   "metadata": {
    "scrolled": false
   },
   "outputs": [
    {
     "name": "stdout",
     "output_type": "stream",
     "text": [
      "User Guide: https://docs.kepler.gl/docs/keplergl-jupyter\n"
     ]
    },
    {
     "data": {
      "application/vnd.jupyter.widget-view+json": {
       "model_id": "c562822d0aec41a9ae71809e0c34bf85",
       "version_major": 2,
       "version_minor": 0
      },
      "text/plain": [
       "KeplerGl(data={'Ciudades Cataluña': {'index': [0, 1, 2, 3], 'columns': ['lat', 'lon', 'ciudad', 'poblacion', '…"
      ]
     },
     "metadata": {},
     "output_type": "display_data"
    }
   ],
   "source": [
    "# Crear un mapa en Kepler.gl\n",
    "mapa2 = KeplerGl(height=600)\n",
    "mapa2.add_data(data=df, name=\"Ciudades Cataluña\")\n",
    "\n",
    "# Mostrar el mapa\n",
    "mapa2"
   ]
  },
  {
   "cell_type": "code",
   "execution_count": null,
   "id": "2e00c92e",
   "metadata": {},
   "outputs": [],
   "source": []
  },
  {
   "cell_type": "code",
   "execution_count": null,
   "id": "c65bfc1c",
   "metadata": {},
   "outputs": [],
   "source": []
  }
 ],
 "metadata": {
  "kernelspec": {
   "display_name": "Python 3 (ipykernel)",
   "language": "python",
   "name": "python3"
  },
  "language_info": {
   "codemirror_mode": {
    "name": "ipython",
    "version": 3
   },
   "file_extension": ".py",
   "mimetype": "text/x-python",
   "name": "python",
   "nbconvert_exporter": "python",
   "pygments_lexer": "ipython3",
   "version": "3.9.13"
  }
 },
 "nbformat": 4,
 "nbformat_minor": 5
}
