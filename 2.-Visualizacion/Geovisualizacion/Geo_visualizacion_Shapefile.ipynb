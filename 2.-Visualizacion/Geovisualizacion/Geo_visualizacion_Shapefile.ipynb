{
 "cells": [
  {
   "cell_type": "markdown",
   "id": "63964f88",
   "metadata": {},
   "source": [
    "## Trabajando con shapefiles\n",
    "\n",
    "Un shapefile es un fichero que está pensado para representar formas, como su propio nombre indica. Normalmente estas formas hacen referencia a objetos geográficos, tales como fronteras de países o regiones, pero también puede representar lagos, ríos o, literalmente, cualquier otra forma. Por ejemplo los catastros de las viviendas.\n",
    "\n",
    "Existen varios tipos de \"formas\": Polygon, multypoligon, segment..."
   ]
  },
  {
   "cell_type": "markdown",
   "id": "1ba9b9ef",
   "metadata": {},
   "source": [
    "### Definicion"
   ]
  },
  {
   "cell_type": "markdown",
   "id": "fff20e0c",
   "metadata": {},
   "source": [
    "Un shapefile es un formato popular de almacenamiento de datos espaciales desarrollado por ESRI. Se usa ampliamente en sistemas de información geográfica (GIS) para representar elementos geográficos y sus atributos.\n",
    "\n",
    "Un shapefile está compuesto por al menos tres archivos:\n",
    "\n",
    " - `.shp`: Contiene la geometría de los elementos.\n",
    "\n",
    " - `.shx`: Es un índice de la geometría.\n",
    "\n",
    " - `.dbf`: Almacena los atributos asociados a cada elemento geográfico."
   ]
  },
  {
   "cell_type": "markdown",
   "id": "088b8338",
   "metadata": {},
   "source": [
    "## Casos de uso\n",
    "\n",
    "Los shapefiles se utilizan en una amplia variedad de aplicaciones, incluyendo:\n",
    "\n",
    " - Cartografía y visualización de mapas.\n",
    "\n",
    " - Análisis espacial, como la identificación de patrones geográficos.\n",
    "\n",
    " - Modelado geoespacial en aplicaciones urbanísticas y ambientales.\n",
    "\n",
    " - Planificación de rutas y geocodificación."
   ]
  },
  {
   "cell_type": "markdown",
   "id": "17fffdc3",
   "metadata": {},
   "source": [
    "## Tipos de geometrías\n",
    "\n",
    "### 3.1. Puntos (`Point`)\n",
    "Representan ubicaciones individuales con coordenadas X, Y (y opcionalmente Z para la elevación). Ejemplo de uso:\n",
    "- Ubicación de restaurantes en una ciudad, Posiciones de sensores climáticos.\n",
    "\n",
    "### 3.2. Líneas (`Polyline` o `LineString`)\n",
    "Compuestas por múltiples puntos conectados que forman una línea. Ejemplo de uso:\n",
    "- Representación de carreteras y ríos, Redes eléctricas o tuberías.\n",
    "\n",
    "### 3.3. Polígonos (`Polygon`)\n",
    "Definen áreas cerradas mediante una serie de puntos conectados. Ejemplo de uso:\n",
    "- Delimitación de zonas urbanas y distritos, Representación de lagos o parques naturales.\n",
    "\n",
    "### 3.4. Multipuntos (`Multipoint`)\n",
    "Colección de varios puntos dentro de un solo objeto. Ejemplo de uso:\n",
    "- Agrupación de estaciones meteorológicas en una región.\n",
    "\n",
    "### 3.5. Multilíneas (`MultiLineString`)\n",
    "Conjunto de varias líneas que forman una sola entidad geográfica. Ejemplo de uso:\n",
    "- Red de carreteras que forman una autopista.\n",
    "\n",
    "### 3.6. Multipolígonos (`MultiPolygon`)\n",
    "Agrupación de varios polígonos dentro de una misma entidad. Ejemplo de uso:\n",
    "- Representación de islas en un archipiélago, Zonas administrativas con subdivisiones.\n",
    "\n"
   ]
  },
  {
   "cell_type": "markdown",
   "id": "4c79aac8",
   "metadata": {},
   "source": [
    "## Ejemplo de uso de un shapefile\n",
    "\n",
    "Tenemos acceso a una serie de datos geográficos disponibles en eurographics.org con los límites de Europa, las carreteras, aeropuertos... Vamos a ver un ejemplo"
   ]
  },
  {
   "cell_type": "code",
   "execution_count": null,
   "id": "3ac6ee07",
   "metadata": {},
   "outputs": [],
   "source": [
    "import geopandas as gpd\n",
    "import matplotlib.pyplot as plt\n"
   ]
  },
  {
   "cell_type": "code",
   "execution_count": null,
   "id": "2d916def",
   "metadata": {},
   "outputs": [],
   "source": [
    "airfldp = '../Data/euro-global-map-shp/euro-global-map-shp/AirfldP.shp'\n",
    "builtupp = '../Data/euro-global-map-shp/euro-global-map-shp/BuiltupP.shp'\n",
    "CoastA = '../Data/euro-global-map-shp/euro-global-map-shp/CoastA.shp'\n",
    "CoastL = '../Data/euro-global-map-shp/euro-global-map-shp/CoastL.shp'\n",
    "DamC = '../Data/euro-global-map-shp/euro-global-map-shp/DamC.shp'\n",
    "DamL = '../Data/euro-global-map-shp/euro-global-map-shp/DamL.shp'\n",
    "ExitC = '../Data/euro-global-map-shp/euro-global-map-shp/ExitC.shp'\n",
    "RoadL = '../Data/euro-global-map-shp/euro-global-map-shp/RoadL.shp'\n",
    "SeaA = '../Data/euro-global-map-shp/euro-global-map-shp/seaA.shp'"
   ]
  },
  {
   "cell_type": "code",
   "execution_count": null,
   "id": "40abb0d4",
   "metadata": {},
   "outputs": [],
   "source": [
    "# Cargar varias capas\n",
    "df_airfldp = gpd.read_file(airfldp) # puntos\n",
    "df_builtupp = gpd.read_file(builtupp)\n",
    "df_CoastA = gpd.read_file(CoastA)\n",
    "df_CoastL = gpd.read_file(CoastL)\n",
    "df_DamC = gpd.read_file(DamC)\n",
    "df_DamL = gpd.read_file(DamL)\n",
    "df_ExitC = gpd.read_file(ExitC)\n",
    "df_RoadL = gpd.read_file(RoadL)\n",
    "df_SeaA = gpd.read_file(SeaA)\n",
    "\n",
    "# Crear el plot\n",
    "fig, ax = plt.subplots(figsize=(20, 16))\n",
    "\n",
    "# Pintar cada capa\n",
    "# df_airfldp.plot(ax=ax, color=\"lightgrey\", edgecolor=\"black\", linewidth=0.1)\n",
    "# df_builtupp.plot(ax=ax, color=\"lightgrey\", edgecolor=\"black\", linewidth=0.5)\n",
    "# df_CoastA.plot(ax=ax, edgecolor=\"black\")\n",
    "df_CoastL.plot(ax=ax, linewidth=0.4, edgecolor=\"black\")\n",
    "df_RoadL.plot(ax=ax, linewidth=0.1)\n",
    "# df_DamL.plot(ax=ax)\n",
    "# df_ExitC.plot(ax=ax)\n",
    "\n",
    "\n",
    "# Mostrar\n",
    "plt.title(\"EuroGlobalMap Completo\")\n",
    "plt.show()"
   ]
  },
  {
   "cell_type": "markdown",
   "id": "c8475370",
   "metadata": {},
   "source": [
    "## Hacer zoom\n",
    "\n",
    "Para hacer zoom limitamos la longitud y latitud de nuestro mapa y de esta forma vemos mejor en detalle"
   ]
  },
  {
   "cell_type": "code",
   "execution_count": null,
   "id": "cca77caf",
   "metadata": {},
   "outputs": [],
   "source": [
    "from shapely.geometry import Polygon\n",
    "fig, ax = plt.subplots(figsize=(20, 16))\n",
    "# Definir un polígono de la región de interés\n",
    "coords = [(-20, 30),  # Vértice 1: longitud -20, latitud 30\n",
    "          (30, 30),  # Vértice 2: longitud 30, latitud 30\n",
    "          (30, 70),  # Vértice 3: longitud 30, latitud 70\n",
    "          (-20, 70), # Vértice 4: longitud -20, latitud 70\n",
    "          (-20, 30)]  # Vértice 5: volver al primer vértice para cerrar el polígono\n",
    "\n",
    "poligono = Polygon(coords)\n",
    "\n",
    "# Recortar el shapefile con el polígono\n",
    "df_CoastL_cortado = df_CoastL[df_CoastL.geometry.intersects(poligono)]\n",
    "df_RoadL_cortado = df_RoadL[df_RoadL.geometry.intersects(poligono)]\n",
    "\n",
    "# Visualizar el recorte\n",
    "df_CoastL_cortado.plot(ax=ax, linewidth=0.4, edgecolor=\"black\")\n",
    "df_RoadL_cortado.plot(ax=ax, linewidth=0.1)\n",
    "plt.show()\n"
   ]
  },
  {
   "cell_type": "code",
   "execution_count": null,
   "id": "e042821c",
   "metadata": {},
   "outputs": [],
   "source": []
  }
 ],
 "metadata": {
  "kernelspec": {
   "display_name": "Python 3 (ipykernel)",
   "language": "python",
   "name": "python3"
  },
  "language_info": {
   "codemirror_mode": {
    "name": "ipython",
    "version": 3
   },
   "file_extension": ".py",
   "mimetype": "text/x-python",
   "name": "python",
   "nbconvert_exporter": "python",
   "pygments_lexer": "ipython3",
   "version": "3.9.13"
  }
 },
 "nbformat": 4,
 "nbformat_minor": 5
}
