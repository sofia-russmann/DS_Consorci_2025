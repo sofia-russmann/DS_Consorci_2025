{
 "cells": [
  {
   "cell_type": "markdown",
   "id": "0737819b",
   "metadata": {},
   "source": [
    "# Ejercicio Geo visualizacion\n",
    "\n",
    " - Importa el csv geometry_roads.csv\n",
    " - Realiza una análisis inicial de los datos y categoriza algunas variables. Trata de definir segmentos atascados y no atascados\n",
    " - Utiliza las variables coordinates para dibujar las viviendas en en el mapa, usando Kepler\n",
    " - Perfecciona tus visualizaciones añadiendo detalles como tamaño de los puntos o sus colores en función de el resto de variables, como la intensidad diaria"
   ]
  },
  {
   "cell_type": "code",
   "execution_count": 6,
   "id": "8ff23bcd",
   "metadata": {},
   "outputs": [],
   "source": [
    "import pandas as pd\n",
    "from keplergl import KeplerGl\n",
    "import geopandas as gpd\n",
    "# import matplotlib.pyplot as plt\n",
    "# from shapely.geometry import Point"
   ]
  },
  {
   "cell_type": "code",
   "execution_count": 9,
   "id": "5a9e9e01",
   "metadata": {
    "scrolled": true
   },
   "outputs": [
    {
     "data": {
      "text/html": [
       "<div>\n",
       "<style scoped>\n",
       "    .dataframe tbody tr th:only-of-type {\n",
       "        vertical-align: middle;\n",
       "    }\n",
       "\n",
       "    .dataframe tbody tr th {\n",
       "        vertical-align: top;\n",
       "    }\n",
       "\n",
       "    .dataframe thead th {\n",
       "        text-align: right;\n",
       "    }\n",
       "</style>\n",
       "<table border=\"1\" class=\"dataframe\">\n",
       "  <thead>\n",
       "    <tr style=\"text-align: right;\">\n",
       "      <th></th>\n",
       "      <th>link_id</th>\n",
       "      <th>daily_intensity</th>\n",
       "      <th>speed_avg</th>\n",
       "      <th>speed_median</th>\n",
       "      <th>speed_1st_qrt</th>\n",
       "      <th>speed_3th_qrt</th>\n",
       "      <th>func_class</th>\n",
       "      <th>speed_cat</th>\n",
       "      <th>geometry</th>\n",
       "      <th>speed_lim</th>\n",
       "      <th>speed_lim_cat</th>\n",
       "      <th>road_type</th>\n",
       "      <th>speed_type</th>\n",
       "    </tr>\n",
       "  </thead>\n",
       "  <tbody>\n",
       "    <tr>\n",
       "      <th>0</th>\n",
       "      <td>80216819</td>\n",
       "      <td>6224.778569</td>\n",
       "      <td>45.208716</td>\n",
       "      <td>44.464286</td>\n",
       "      <td>28.000000</td>\n",
       "      <td>59.00</td>\n",
       "      <td>2</td>\n",
       "      <td>6</td>\n",
       "      <td>MULTILINESTRING ((-9.16402 38.77030, -9.16389 ...</td>\n",
       "      <td>50</td>\n",
       "      <td>slow</td>\n",
       "      <td>These roads are used to channel traffic to Mai...</td>\n",
       "      <td>31-50 km/h</td>\n",
       "    </tr>\n",
       "    <tr>\n",
       "      <th>1</th>\n",
       "      <td>80216858</td>\n",
       "      <td>2236.054168</td>\n",
       "      <td>79.563308</td>\n",
       "      <td>82.750000</td>\n",
       "      <td>71.750000</td>\n",
       "      <td>93.25</td>\n",
       "      <td>2</td>\n",
       "      <td>4</td>\n",
       "      <td>MULTILINESTRING ((-9.16645 38.74274, -9.16638 ...</td>\n",
       "      <td>90</td>\n",
       "      <td>med</td>\n",
       "      <td>These roads are used to channel traffic to Mai...</td>\n",
       "      <td>71-90 km/h</td>\n",
       "    </tr>\n",
       "    <tr>\n",
       "      <th>2</th>\n",
       "      <td>80216859</td>\n",
       "      <td>2138.725039</td>\n",
       "      <td>65.955069</td>\n",
       "      <td>67.333333</td>\n",
       "      <td>61.000000</td>\n",
       "      <td>75.00</td>\n",
       "      <td>3</td>\n",
       "      <td>6</td>\n",
       "      <td>MULTILINESTRING ((-9.16645 38.74274, -9.16637 ...</td>\n",
       "      <td>50</td>\n",
       "      <td>slow</td>\n",
       "      <td>These roads interconnect First Class Roads (FR...</td>\n",
       "      <td>31-50 km/h</td>\n",
       "    </tr>\n",
       "    <tr>\n",
       "      <th>3</th>\n",
       "      <td>80216860</td>\n",
       "      <td>2201.335041</td>\n",
       "      <td>47.533911</td>\n",
       "      <td>44.000000</td>\n",
       "      <td>26.900000</td>\n",
       "      <td>74.00</td>\n",
       "      <td>3</td>\n",
       "      <td>6</td>\n",
       "      <td>MULTILINESTRING ((-9.16588 38.74370, -9.16568 ...</td>\n",
       "      <td>50</td>\n",
       "      <td>slow</td>\n",
       "      <td>These roads interconnect First Class Roads (FR...</td>\n",
       "      <td>31-50 km/h</td>\n",
       "    </tr>\n",
       "    <tr>\n",
       "      <th>4</th>\n",
       "      <td>80216867</td>\n",
       "      <td>2102.610278</td>\n",
       "      <td>51.375291</td>\n",
       "      <td>53.250000</td>\n",
       "      <td>45.333333</td>\n",
       "      <td>59.00</td>\n",
       "      <td>3</td>\n",
       "      <td>6</td>\n",
       "      <td>MULTILINESTRING ((-9.16472 38.74478, -9.16487 ...</td>\n",
       "      <td>50</td>\n",
       "      <td>slow</td>\n",
       "      <td>These roads interconnect First Class Roads (FR...</td>\n",
       "      <td>31-50 km/h</td>\n",
       "    </tr>\n",
       "  </tbody>\n",
       "</table>\n",
       "</div>"
      ],
      "text/plain": [
       "    link_id  daily_intensity  speed_avg  speed_median  speed_1st_qrt  \\\n",
       "0  80216819      6224.778569  45.208716     44.464286      28.000000   \n",
       "1  80216858      2236.054168  79.563308     82.750000      71.750000   \n",
       "2  80216859      2138.725039  65.955069     67.333333      61.000000   \n",
       "3  80216860      2201.335041  47.533911     44.000000      26.900000   \n",
       "4  80216867      2102.610278  51.375291     53.250000      45.333333   \n",
       "\n",
       "   speed_3th_qrt  func_class  speed_cat  \\\n",
       "0          59.00           2          6   \n",
       "1          93.25           2          4   \n",
       "2          75.00           3          6   \n",
       "3          74.00           3          6   \n",
       "4          59.00           3          6   \n",
       "\n",
       "                                            geometry  speed_lim speed_lim_cat  \\\n",
       "0  MULTILINESTRING ((-9.16402 38.77030, -9.16389 ...         50          slow   \n",
       "1  MULTILINESTRING ((-9.16645 38.74274, -9.16638 ...         90           med   \n",
       "2  MULTILINESTRING ((-9.16645 38.74274, -9.16637 ...         50          slow   \n",
       "3  MULTILINESTRING ((-9.16588 38.74370, -9.16568 ...         50          slow   \n",
       "4  MULTILINESTRING ((-9.16472 38.74478, -9.16487 ...         50          slow   \n",
       "\n",
       "                                           road_type  speed_type  \n",
       "0  These roads are used to channel traffic to Mai...  31-50 km/h  \n",
       "1  These roads are used to channel traffic to Mai...  71-90 km/h  \n",
       "2  These roads interconnect First Class Roads (FR...  31-50 km/h  \n",
       "3  These roads interconnect First Class Roads (FR...  31-50 km/h  \n",
       "4  These roads interconnect First Class Roads (FR...  31-50 km/h  "
      ]
     },
     "execution_count": 9,
     "metadata": {},
     "output_type": "execute_result"
    }
   ],
   "source": [
    "# df = pd.read_csv('../Data/geometry_roads.csv', sep = ';')\n",
    "data_ini=gpd.read_file('../Data/m_risk_prfile.geojson')\n",
    "\n",
    "data_ini = data_ini.rename(columns = {'Link_ID':'link_id',\n",
    "                              'Daily_Aver':'daily_intensity',\n",
    "                              'Average_Ve':'speed_avg',\n",
    "                              'Median_of_':'speed_median',\n",
    "                              'First_Quar':'speed_1st_qrt',\n",
    "                              'Third_Quar':'speed_3th_qrt',\n",
    "                              'Func_Class':'func_class',\n",
    "                              'Speed_Cat':'speed_cat'})#.round(2)\n",
    "data_ini = data_ini[['link_id','daily_intensity','speed_avg','speed_median','speed_1st_qrt','speed_3th_qrt','func_class','speed_cat','geometry']]\n",
    "\n",
    "# speed_lim_cat variable creation\n",
    "sp = {'speed_cat' : [1, 2, 3, 4, 5, 6, 7, 8 ],\n",
    "      'speed_lim' : [150, 130, 100, 90, 70, 50, 30, 11],\n",
    "      'speed_lim_cat' : [\"fast\", \"fast\", \"fast\", \"med\", \"med\", \"slow\", \"slow\", \"slow\"]}\n",
    "speed_lim = pd.DataFrame(sp)\n",
    "data = data_ini.merge(speed_lim, on = \"speed_cat\", how = \"left\")\n",
    "\n",
    "funccional_class={1:'These roads are meant for high volume, maximum speed traffic between and through major metropolitan areas. There are very few, if any, speed changes. Access to this road is usually controlled.',\n",
    "                  2:'These roads are used to channel traffic to Main Roads (FRC1) for travel between and through cities in the shortest amount of time. There are very few, if any speed changes.',\n",
    "                  3:'These roads interconnect First Class Roads (FRC2) and provide a high volume of traffic movement at a lower level of mobility than First Class Roads (FRC2).'}\n",
    "\n",
    "speed_cat={1:'>130 km/h',\n",
    "           2:'101-130 km/h',\n",
    "           3:'91-100 km/h',\n",
    "           4:'71-90 km/h',\n",
    "           5:'51-70 km/h',\n",
    "           6:'31-50 km/h',\n",
    "           7:'11-30 km/h',\n",
    "           8:'<11 km/h'}\n",
    "# asigno a cada una de las columnas su valor mediante map\n",
    "data['road_type']=data['func_class'].map(funccional_class)\n",
    "data['speed_type']=data['speed_cat'].map(speed_cat)\n",
    "\n",
    "data.head(5)"
   ]
  },
  {
   "cell_type": "code",
   "execution_count": 10,
   "id": "f4f70934",
   "metadata": {},
   "outputs": [
    {
     "name": "stdout",
     "output_type": "stream",
     "text": [
      "User Guide: https://docs.kepler.gl/docs/keplergl-jupyter\n"
     ]
    },
    {
     "data": {
      "application/vnd.jupyter.widget-view+json": {
       "model_id": "2781cdbfaca24a96b4d17e38020a108b",
       "version_major": 2,
       "version_minor": 0
      },
      "text/plain": [
       "KeplerGl(data={'segmentos carreteras': {'index': [0, 1, 2, 3, 4, 5, 6, 7, 8, 9, 10, 11, 12, 13, 14, 15, 16, 17…"
      ]
     },
     "metadata": {},
     "output_type": "display_data"
    }
   ],
   "source": [
    "# Crear un mapa en Kepler.gl\n",
    "mapa = KeplerGl(height=600)\n",
    "mapa.add_data(data=data, name=\"segmentos carreteras\")\n",
    "\n",
    "# Mostrar el mapa\n",
    "mapa"
   ]
  },
  {
   "cell_type": "code",
   "execution_count": 11,
   "id": "2789abcd",
   "metadata": {},
   "outputs": [
    {
     "name": "stdout",
     "output_type": "stream",
     "text": [
      "Map saved to geo_viz_roads_resuelto.html!\n"
     ]
    }
   ],
   "source": [
    "mapa.save_to_html(file_name=\"geo_viz_roads_resuelto.html\")"
   ]
  },
  {
   "cell_type": "code",
   "execution_count": null,
   "id": "4ce39b0f",
   "metadata": {},
   "outputs": [],
   "source": []
  }
 ],
 "metadata": {
  "kernelspec": {
   "display_name": "Python 3 (ipykernel)",
   "language": "python",
   "name": "python3"
  },
  "language_info": {
   "codemirror_mode": {
    "name": "ipython",
    "version": 3
   },
   "file_extension": ".py",
   "mimetype": "text/x-python",
   "name": "python",
   "nbconvert_exporter": "python",
   "pygments_lexer": "ipython3",
   "version": "3.9.13"
  }
 },
 "nbformat": 4,
 "nbformat_minor": 5
}
